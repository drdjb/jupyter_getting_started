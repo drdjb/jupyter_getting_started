{
 "cells": [
  {
   "cell_type": "markdown",
   "metadata": {},
   "source": [
    "<img src=\"/static/base/images/logo.png?v=641991992878ee24c6f3826e81054a0f\" alt=\"Jupyter Notebook\">\n",
    "<h1 style=\"text-align: center\">Notebook 1 - Getting started with Jupyter</h1>"
   ]
  },
  {
   "cell_type": "markdown",
   "metadata": {},
   "source": [
    "<h3>Prerequisites</h3>\n",
    "\n",
    "- You must have Python 3 installed on your system (<a href=\"https://www.python.org/downloads/\">Download</a>)\n",
    "- You must have R installed on your system (<a href=\"https://cran.r-project.org/bin/\">Download: Follow \"base\" links</a>)\n",
    "- You must have RStudio installed on your system (<a href=\"https://www.rstudio.com/products/rstudio/download/#download\">Download</a>)\n",
    "- Some knowledge of Python and R may be required"
   ]
  },
  {
   "cell_type": "markdown",
   "metadata": {},
   "source": [
    "<h3>What is Jupyter?</h3>\n",
    "\n",
    "Jupyter (or Jupyter Notebook) is an open-source web application that allows you to run code directly from your browser.<br>\n",
    "It is extremely useful for data visualisation as well as for documentation of code, two things which are very important to both learning and teaching programming."
   ]
  },
  {
   "cell_type": "markdown",
   "metadata": {},
   "source": [
    "<h3>Installing Jupyter</h3>\n",
    "\n",
    "There are two ways of installing Jupyter:\n",
    "\n",
    "- One easy way is by using a distrubution named Anaconda, which includes Python as well as the Jupyter notebook aswell, this distribution can be downloaded <a href=\"https://www.anaconda.com/distribution/\">here</a>, the instructions will be displayed to you as you run the installer.\n",
    "- The other way is by using 'pip', which is the package installer for Python, and so to use this, you must already have Python installed. <br>Once Python is installed, the following commands must be used in the Command Prompt (Windows), or the Terminal (MacOS/Linux):<br> <code>pip install --upgrade pip</code> <br> <code>pip install jupyter</code>\n",
    "\n",
    "The instructions for both ways are listed <a href=\"https://jupyter.org/install\">here</a>, and once Jupyter is successfully installed, the command <code>jupyter notebook</code> must be used in the Command Prompt (Windows), or the Terminal (MacOS/Linux) in order to launch the notebook.\n",
    "\n",
    "For this notebook, Python 3 is a requirement, so it is better to choose it when installing Jupyter in either ways."
   ]
  },
  {
   "cell_type": "markdown",
   "metadata": {},
   "source": [
    "<h3>Adding R to Jupyter notebook</h3>\n",
    "\n",
    "Once R is installed, it doesn't automatically appear in the jupyter notebook, to do this, the following commands must be entered in order on the R console (In RStudio):\n",
    "\n",
    "1. <code>install.packages(c('repr', 'IRdisplay', 'evaluate', 'crayon', 'pbdZMQ', 'devtools', 'uuid', 'digest'))</code>\n",
    "2. <code>install.packages(\"IRkernel\")</code>\n",
    "3. <code>IRkernel::installspec()</code>\n",
    "\n",
    "When this is done, you should see the kernel \"R\" when you decide to change the kernel later on in the notebook."
   ]
  },
  {
   "cell_type": "markdown",
   "metadata": {},
   "source": [
    "<h3>Explanation of Notebook 1</h3>\n",
    "\n",
    "Throughout this notebook, you will see blocks of code, usually separated, these are called <b>cells</b>, more on this is explained later. <br>\n",
    "\n",
    "As an introduction, this notebook will go through the key basics of Jupyter notebooks and the use/implementation of Python and R code by exploring csv files through reading and filtering, some of the cells will assume that you are somewhat experienced in both programming languages as you are expected to understand how it works as this is simply an introduction to Jupyter."
   ]
  },
  {
   "cell_type": "markdown",
   "metadata": {},
   "source": [
    "<h3>Explanation of cells</h3>\n",
    "\n",
    "Cells are a way of inputting code, or simply text like in this one; a great use of cells in coding in this notebook is that you can choose which cells you want to run instead of running the program as a whole or cutting things out.\n",
    "\n",
    "This cell is set to the type <i>\"Markdown\"</i>, meaning that you are able to use HTML elements in this cell,\n",
    "as an example, here's <b>bold text</b>. You can change this anytime by clicking on a cell and changing it from the drop down menu on the toolbar.\n",
    "\n",
    "- Markdown cells are commonly used to annotate blocks of code and often helps you understand the key parts.\n",
    "- Code cells on the other hand are solely just for coding, therefore markdown will not work in code, and vice versa.\n",
    "\n",
    "<!--Here's a comment in HTML-->\n",
    "\n",
    "To begin, you could add your own cell, you could do this by:\n",
    "- Using the tool bar (Cell > Insert Cell Below/After) </li>\n",
    "\n",
    "To preview the outcome of any edits in any cell, you need to run it, which you must do by either:\n",
    "- Using the tool bar (Cell > Run Cells)\n",
    "- Pressing <b>Ctrl + Enter</b> at the same time.\n",
    "- Pressing the run button <i class=\"fa-step-forward fa\"></i>\n",
    "\n",
    "\n",
    "Alternatively, you can run AND insert a cell below by either:\n",
    "- Using the tool bar (Cell > Run Cells and Insert Below)\n",
    "- Pressing <b>Alt + Enter</b> at the same time.\n",
    "\n",
    "There are many more tricks you could discover by exploring the toolbar and also shortcuts you could use which can be viewed by pressing on the command pallete (<i class=\"fa-keyboard-o fa\"></i>).\n",
    "\n",
    "When you are editing a cell (Edit Mode), it will outline the cell in <b style=\"color: #66BB6A;\">green </b> with a pen indicator at the top right, otherwise (Command Mode) it will be outlined <b style=\"color: #42A5F5;\">blue</b> instead, this is so that you are aware of the current state.\n",
    "\n",
    "When you are in Command Mode, you could press <b>'x'</b> on your keyboard to delete the selected cell."
   ]
  },
  {
   "cell_type": "markdown",
   "metadata": {},
   "source": [
    "<h3>Explanation of the kernel</h3>\n",
    "    \n",
    "To run any code, you need a kernel, it also keeps the running as well, but usually there's different kernals for different programming languages, however, the only thing you need to know is that it can help you manage your notebook, like for an example, you can restart the kernel to clear all inputs and outputs of the notebook or stop the kernel completely to stop all the code, etc.\n",
    "\n",
    "The kernel can be managed by:\n",
    "- Using the tool bar (Kernel > Interrupt/Restart/Clear Output/Run All/Reconnect/Shutdown)\n",
    "\n",
    "The most important part of the kernel is that you can use it to switch to a different programming language in the same notebook; since we are currently running Python, we are using the Python kernel, which means we cannot use any other programming language right now.\n",
    "\n",
    "However, if you've installed other kernels (As an example for R), you can switch them by:\n",
    "- Using the tool bar (Kernel > Change Kernel)\n",
    "\n",
    "The currently using kernel is shown at the top using its respective icon.\n",
    "\n",
    "For this notebook, we are using Python and R, and so you must have both kernels installed in order for the entire notebook to work.\n",
    "\n",
    "<i>Switching to Python kernel will make the Python code work, but not the R code, and vice versa.</i>"
   ]
  },
  {
   "cell_type": "markdown",
   "metadata": {},
   "source": [
    "<h3><img class=\"current_kernel_logo\" alt=\"Current Kernel Logo\" src=\"https://i.imgur.com/3jxyyOH.png\" title=\"Python 3\" style=\"display: inline;\">Python code</h3> \n",
    "\n",
    "Since we are currently on the Python kernel the cell below this shows Python 3 code in use; for this example, I've simply shown a block of code of addition to demonstrate how this notebook can be used.\n",
    "\n",
    "Try running the cell below using a shortcut to see the output."
   ]
  },
  {
   "cell_type": "code",
   "execution_count": null,
   "metadata": {},
   "outputs": [],
   "source": [
    "x = 3\n",
    "y = 4\n",
    "\n",
    "z = x+y\n",
    "\n",
    "z\n",
    "\n",
    "\n",
    "#Try running the following HTML code uncommented afterwards:\n",
    "#<b>HTML</b>"
   ]
  },
  {
   "cell_type": "markdown",
   "metadata": {},
   "source": [
    "This cell runs Python code instead of HTML, this is because it is set to <i>\"Code\"</i>, this means that using HTML in the above cell would return syntax errors based on the current kernel (Python in this case).\n",
    "\n",
    "Furthermore, notice how the above code prints out the result of the calculation even without the use of the <a style=\"color: #008000\">print</a> function in python.<br>\n",
    "This is another perk of Jupyter; simply by typing the variable name (In this case 'z'), it would display the value of it.\n",
    "\n",
    "However, this only works on the last line and if the last line isn't involved in assigning to a variable, which is why it's often convenient in small separated cells rather than massive blocks of code."
   ]
  },
  {
   "cell_type": "markdown",
   "metadata": {},
   "source": [
    "<h3>Python - Further exploration</h3>\n",
    "\n",
    "In this example, we will exploring about more uses of Jupyter using Python.<br>\n",
    "This time, we will work with filtering data by parsing and reading CSV files.\n",
    "\n",
    "The package that'll be used for this is <b>'csv'</b>, try run the cell below."
   ]
  },
  {
   "cell_type": "code",
   "execution_count": null,
   "metadata": {},
   "outputs": [],
   "source": [
    "import csv #Import the csv package\n",
    "\n",
    "with open('data/population.csv', 'r') as csv_file: #Open the csv file and assign it to a variable ('csv_file')\n",
    "    csv_reader = csv.reader(csv_file) #Read the file using the .reader function of csv package to 'csv_reader'"
   ]
  },
  {
   "cell_type": "markdown",
   "metadata": {},
   "source": [
    "Now what you know from the above code is that the object 'csv_reader' gathers all the data in csv_file, but does that mean that it is a list of countries?\n",
    "\n",
    "Try run the cell below and check the outcome."
   ]
  },
  {
   "cell_type": "code",
   "execution_count": null,
   "metadata": {},
   "outputs": [],
   "source": [
    "csv_reader[0]"
   ]
  },
  {
   "cell_type": "markdown",
   "metadata": {},
   "source": [
    "If you run the cell above, it would give a TypeError, because it is not a list. <br>\n",
    "This doesn't necessarily mean that we cannot iterate through the variable, and so try the following:"
   ]
  },
  {
   "cell_type": "code",
   "execution_count": null,
   "metadata": {
    "scrolled": true
   },
   "outputs": [],
   "source": [
    "with open('data/population.csv', 'r') as csv_file: #Open the csv file and assign it to a variable ('csv_file')\n",
    "    csv_reader = csv.reader(csv_file) #Read the file using the .reader function of csv package to 'csv_reader'\n",
    "    \n",
    "    for line in csv_reader:\n",
    "        print(\"\\n\",line) #Print each line"
   ]
  },
  {
   "cell_type": "markdown",
   "metadata": {},
   "source": [
    "You can see that the notebook automatically creates a table of columns and rows and places the data clearly in respective cells.\n",
    "\n",
    "Now that the above cell prints out all the listed countries in the csv file, you can see that each country goes from 1960 up to 2016, displaying both its country code as well as the population, this also ensures that it can still be converted to a list, check the following cell."
   ]
  },
  {
   "cell_type": "code",
   "execution_count": null,
   "metadata": {},
   "outputs": [],
   "source": [
    "with open('data/population.csv', 'r') as csv_file: #Open the csv file and assign it to a variable ('csv_file')\n",
    "    csv_reader = csv.reader(csv_file) #Read the file using the .reader function of csv package to 'csv_reader'\n",
    "    \n",
    "    csvList = list(csv_reader) #Convert to a list\n",
    "    csvList.remove(csvList[0]) #This is used to remove the headers to reduce issues with parsing\n",
    "    \n",
    "    print(len(csvList)) #Print the length of the list"
   ]
  },
  {
   "cell_type": "markdown",
   "metadata": {},
   "source": [
    "You see that now it displays the amount of rows when you type in its length, which means that you can index through its items, check the following cell."
   ]
  },
  {
   "cell_type": "code",
   "execution_count": null,
   "metadata": {},
   "outputs": [],
   "source": [
    "UK2016 = csvList[14287] #14287 is the index number of 2016 population data of United Kingdom in this list.\n",
    "UK2016"
   ]
  },
  {
   "cell_type": "markdown",
   "metadata": {},
   "source": [
    "Now that you can iterate through the list's countries, it also means that you can select specific attributes from each country, as shown on the cell below."
   ]
  },
  {
   "cell_type": "code",
   "execution_count": null,
   "metadata": {},
   "outputs": [],
   "source": [
    "    UK2016[3]"
   ]
  },
  {
   "cell_type": "markdown",
   "metadata": {},
   "source": [
    "With the given information, we are now able to filter this data to our choosing, let's make the csv reader only print out United Kingdom results."
   ]
  },
  {
   "cell_type": "code",
   "execution_count": null,
   "metadata": {},
   "outputs": [],
   "source": [
    "    for country in csvList: #Go through each country\n",
    "        if country[0] == \"United Kingdom\": #If the first attribute matches 'United Kingdom'\n",
    "            print(country) #Print"
   ]
  },
  {
   "cell_type": "markdown",
   "metadata": {},
   "source": [
    "<h3>Exercise</h3>\n",
    "\n",
    "Knowing this, how would you filter the list of countries to only show countries with a population above a certain level?<br>\n",
    "Try it out in the cell below to filter countries with a population of over 10000000 (10 million)"
   ]
  },
  {
   "cell_type": "code",
   "execution_count": null,
   "metadata": {},
   "outputs": [],
   "source": []
  },
  {
   "cell_type": "markdown",
   "metadata": {},
   "source": [
    "<b>Double click for the solution</b>\n",
    "\n",
    "<!--\n",
    "    for country in csvList: #Go through each country\n",
    "        if int(country[3]) > 10000000: #If the fourth attribute is greater than 10 million\n",
    "            print(country) #Print \n",
    "-->"
   ]
  },
  {
   "cell_type": "markdown",
   "metadata": {},
   "source": [
    "There's much more than you can do with this, like filtering more than just one attribute once, e.g population over a certain amount in a specific year."
   ]
  },
  {
   "cell_type": "markdown",
   "metadata": {},
   "source": [
    "<h3><img class=\"current_kernel_logo\" alt=\"Current Kernel Logo\" src=\"https://i.imgur.com/dNIb6Sk.png\" title=\"R\" style=\"display: inline;\"> R code</h3> \n",
    "\n",
    "As mentioned, we are currently on the Python kernel, you would need to switch to the R kernel to run the following examples, only after doing so would you be able to run the following code."
   ]
  },
  {
   "cell_type": "code",
   "execution_count": null,
   "metadata": {},
   "outputs": [],
   "source": [
    "x = 3\n",
    "y = 4\n",
    "\n",
    "z = x+y\n",
    "\n",
    "z"
   ]
  },
  {
   "cell_type": "markdown",
   "metadata": {},
   "source": [
    "Running the cell above shows you the same result as the Python code, and they are both the exact same, neither languages require variable type assignments.\n",
    "\n",
    "We will be doing the same thing, opening a csv file, reading its data and filtering it, but this time with R, this will help us learn the difference between the two programming languages."
   ]
  },
  {
   "cell_type": "code",
   "execution_count": null,
   "metadata": {},
   "outputs": [],
   "source": [
    "help(read.csv) #Gets the usage help for the read.csv function"
   ]
  },
  {
   "cell_type": "markdown",
   "metadata": {},
   "source": [
    "R has an inbuilt command for reading csv files, which makes things easier as we don't have to import a package.<br>\n",
    "By running the cell above, it shows you guidance on its usage, check the cell below before running it."
   ]
  },
  {
   "cell_type": "code",
   "execution_count": null,
   "metadata": {},
   "outputs": [],
   "source": [
    "data <- read.csv('data/population.csv', header=T, \",\") #Open the csv file with headers, separated by commas\n",
    "data"
   ]
  },
  {
   "cell_type": "markdown",
   "metadata": {},
   "source": [
    "Notice how easy it is to load a csv file from R compared to Python, you can also see that the function 'csv'from the 'read'  object also accepts 3 parameters; one to open the file, another for the header, and finally for the delimitter.\n",
    "\n",
    "The header is set to true since the selected csv file has a row of headers at the very beginning, this is to ensure that the code doesn't read that row as a row of data, but instead as the column names.\n",
    "\n",
    "The delimitter is the placeholder for the character that separates the values by columns, which in this case would be a comma (','), so that if you load a csv that's seperated by commas, it would split them into columns.<br>\n",
    "\n",
    "Now that the data is displayed, it's time to filter it, check the cell below.\n"
   ]
  },
  {
   "cell_type": "code",
   "execution_count": null,
   "metadata": {},
   "outputs": [],
   "source": [
    "UK <- subset(data, Country.Name == \"United Kingdom\") #Filter by the country name as 'United Kingdom'\n",
    "UK"
   ]
  },
  {
   "cell_type": "markdown",
   "metadata": {},
   "source": [
    "We use the inbuilt function \"subset\" to filter the data by the country name column, the first parameter is the data itself while the second is the filter.\n",
    "\n",
    "Running the cell above would display the UK population from 1960 to 2016, giving the same exact result as the python code.\n",
    "\n",
    "Notice how we did not use any indexing or any parsing like in Python, and so now to filter it with populations over 10000000 (10 million) and for a specific year, check the cell below."
   ]
  },
  {
   "cell_type": "code",
   "execution_count": null,
   "metadata": {},
   "outputs": [],
   "source": [
    "newPop <- subset(data, Year==2016 & Value > 10000000) #Filter by the year as 2016 and value over 10 million\n",
    "newPop"
   ]
  },
  {
   "cell_type": "markdown",
   "metadata": {},
   "source": [
    "This shows all the countries/areas that have over a population of 10 million in the year 2016."
   ]
  },
  {
   "cell_type": "markdown",
   "metadata": {},
   "source": [
    "<h3>Exercise</h3>\n",
    "\n",
    "Knowing this, how would you filter the list of countries to only show countries with a population below a certain level, with a specific year?<br>\n",
    "\n",
    "Try it out in the cell below to filter countries with a population of less than 10000000 (10 million) for the year 2014"
   ]
  },
  {
   "cell_type": "code",
   "execution_count": null,
   "metadata": {},
   "outputs": [],
   "source": []
  },
  {
   "cell_type": "markdown",
   "metadata": {},
   "source": [
    "<b>Double click for the solution</b>\n",
    "\n",
    "<!--\n",
    "newPop <- subset(data, Year==2014 & Value < 10000000)\n",
    "newPop\n",
    "-->"
   ]
  },
  {
   "cell_type": "markdown",
   "metadata": {},
   "source": [
    "<h3>The end</h3>\n",
    "\n",
    "You've reached the end of the notebook, and now from both programming languages, you can observe the Jupyter notebook's uses.\n",
    "\n",
    "We read data from a csv file and we displayed it in this notebook, and with little effort, the notebook acted as almost as a worksheet that you can work through. \n",
    "There was no need for any screenshots or grabbing code and pasting it, everything was clear and organised just as it should be in a normal worksheet.\n",
    "This isn't all, there's more to data visualization and much more, from tables to graphs to easy efficience testing, there's much more than you could do with Jupyter."
   ]
  },
  {
   "cell_type": "markdown",
   "metadata": {},
   "source": [
    "<h3>Bibliography</h3>\n",
    "\n",
    "+ <a href=\"#Python---Further-exploration\">population.csv</a> by Meiran Zhiyenbayev, 2018 - Retrieved 2nd of July, 2019, from <a href=\"https://github.com/datasets/population/blob/master/data/population.csv\">https://github.com/datasets/population/blob/master/data/population.csv</a>."
   ]
  }
 ],
 "metadata": {
  "kernelspec": {
   "display_name": "Python 3",
   "language": "python",
   "name": "python3"
  },
  "language_info": {
   "codemirror_mode": {
    "name": "ipython",
    "version": 3
   },
   "file_extension": ".py",
   "mimetype": "text/x-python",
   "name": "python",
   "nbconvert_exporter": "python",
   "pygments_lexer": "ipython3",
   "version": "3.7.3"
  }
 },
 "nbformat": 4,
 "nbformat_minor": 4
}
